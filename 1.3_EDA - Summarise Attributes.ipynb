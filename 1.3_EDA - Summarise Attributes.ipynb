{
 "cells": [
  {
   "cell_type": "markdown",
   "id": "eec4b81a-4552-48e8-a030-a5edfcd431e1",
   "metadata": {},
   "source": [
    "### Exploratory Data Analysis - Summarise Attributes\n",
    "For each ticker csv file, compile descriptive stats, earliest reported value, % nan values by attribute"
   ]
  },
  {
   "cell_type": "code",
   "execution_count": null,
   "id": "135d6d3f-7445-48ae-a8ec-5661d7ec1301",
   "metadata": {},
   "outputs": [],
   "source": [
    "import operator\n",
    "import math\n",
    "import random\n",
    "import pandas as pd\n",
    "import datetime as dt\n",
    "import numpy as np\n",
    "import os\n",
    "import urllib\n",
    "import json\n",
    "import requests\n",
    "from io import StringIO\n",
    "\n",
    "from pathlib import Path\n",
    "from eod import EodHistoricalData\n",
    "#import pandas_datareader as pdr\n",
    "#import yfinance as yf\n",
    "#import talib\n",
    "\n",
    "from functools import partial\n",
    "\n",
    "from deap import algorithms\n",
    "from deap import base\n",
    "from deap import creator\n",
    "from deap import tools\n",
    "from deap import gp\n",
    "\n",
    "pd.set_option('display.max_rows', None)"
   ]
  },
  {
   "cell_type": "code",
   "execution_count": null,
   "id": "030c7fb8-4e86-4b51-b952-3b15d301c898",
   "metadata": {},
   "outputs": [],
   "source": [
    "#paths for data - set prefix to location of Data folder\n",
    "path_prefix = r'C:\\Users\\OEM\\GDrive\\WQU'\n",
    "path_att = r'\\Data\\fundamentals_by_attribute'\n",
    "path_fun = r'\\Data\\fundamentals_by_ticker'\n",
    "path_std = r'\\Data\\standardised_fundamentals'\n",
    "path_eda = r'\\Data\\exploratory_data_analysis'"
   ]
  },
  {
   "cell_type": "code",
   "execution_count": null,
   "id": "1dc343a0-c8e4-44c3-bbef-5653fb482d00",
   "metadata": {
    "tags": []
   },
   "outputs": [],
   "source": [
    "api_key = \"618f834b7bfe27.18132752\""
   ]
  },
  {
   "cell_type": "code",
   "execution_count": null,
   "id": "6c92a794-8552-4eb9-8eae-5ca0a946ba50",
   "metadata": {
    "tags": []
   },
   "outputs": [],
   "source": [
    "client = EodHistoricalData(api_key)"
   ]
  },
  {
   "cell_type": "code",
   "execution_count": null,
   "id": "dfd82a8c-5d2a-4ec8-81c2-d31880561c10",
   "metadata": {
    "tags": []
   },
   "outputs": [],
   "source": [
    "resp = client.get_exchange_symbols(exchange='NYSE')"
   ]
  },
  {
   "cell_type": "code",
   "execution_count": null,
   "id": "6dca93d0-7ce3-4996-9082-9828e2ad28e0",
   "metadata": {
    "tags": []
   },
   "outputs": [],
   "source": [
    "tickers = []\n",
    "for i in range(len(resp)):\n",
    "    if resp[i]['Type'] == 'Common Stock' or resp[i]['Type'] == 'Preferred Stock' :\n",
    "        ticker = resp[i]['Code']\n",
    "        tickers.append(ticker)"
   ]
  },
  {
   "cell_type": "code",
   "execution_count": null,
   "id": "c5ce886b-a8d4-437f-8f03-eb3f99743162",
   "metadata": {},
   "outputs": [],
   "source": [
    "#iterate through fundamental csv files and create sumarry statistics for EDA and compile for each attribute\n",
    "for ticker in tickers:\n",
    "    filepath = Path(path_prefix + path_fun + '\\df_fun_{}.csv'.format(ticker))\n",
    "    print(ticker)\n",
    "    if os.path.isfile(filepath) == True:\n",
    "        df_fun = pd.read_csv(filepath, index_col=0).transpose()\n",
    "        df_fun.drop(['date', 'filing_date', 'currency_symbol'], inplace=True, axis=1)\n",
    "        df_fun = df_fun.astype(np.float64)\n",
    "        df_fun.sort_index(ascending=False, inplace=True)\n",
    "        for i in range(len(df_fun.columns)):\n",
    "            col = df_fun.columns[i]\n",
    "            desc = df_fun[col].describe().to_frame()\n",
    "            earliest_val = df_fun[col].last_valid_index()\n",
    "            desc.loc['earliest_val', col] = earliest_val\n",
    "            pct_nan = df_fun[col].loc[:earliest_val].isna().sum() / df_fun[col].loc[:earliest_val].shape[0] * 100\n",
    "            desc.loc['pct_nan', col] = pct_nan\n",
    "                \n",
    "            filepath = Path(path_prefix + path_eda + 'df_eda_{}.csv'.format(col))\n",
    "            if os.path.isfile(filepath) == False:\n",
    "                filepath.parent.mkdir(parents=True, exist_ok=True)  \n",
    "                desc.to_csv(filepath)\n",
    "            else:  \n",
    "                df_desc = pd.read_csv(filepath, index_col=0)\n",
    "                suffix = '_{}'.format(ticker)\n",
    "                df_desc = df_desc.join(desc, rsuffix=suffix)\n",
    "                df_desc.to_csv(filepath)"
   ]
  },
  {
   "cell_type": "markdown",
   "id": "3dd744c8-cada-44e6-8d2b-a0ad5188931b",
   "metadata": {},
   "source": [
    "Code to remove overrun...."
   ]
  },
  {
   "cell_type": "code",
   "execution_count": null,
   "id": "3b0a1d05-95c5-4b51-b2ed-bc2252febe8c",
   "metadata": {
    "tags": []
   },
   "outputs": [],
   "source": [
    "os.chdir(r'C:\\Users\\OEM\\tickers\\attributes')"
   ]
  },
  {
   "cell_type": "code",
   "execution_count": null,
   "id": "470f91a6-7b33-408e-97e2-9cb8032ba4a8",
   "metadata": {
    "tags": []
   },
   "outputs": [],
   "source": [
    "files = [f for f in os.listdir() if os.path.isfile(f)]"
   ]
  },
  {
   "cell_type": "code",
   "execution_count": null,
   "id": "5a24ead0-faf3-4be3-a03b-3fb623b2fa01",
   "metadata": {
    "tags": []
   },
   "outputs": [],
   "source": [
    "for file in files:\n",
    "    filepath = Path(r'C:\\Users\\OEM\\tickers\\attributes\\{}'.format(file))\n",
    "    df = pd.read_csv(filepath, parse_dates=True, index_col=0, dtype='float64')\n",
    "    filt = df.columns.str.contains('1')\n",
    "    mask = df.columns[filt]\n",
    "    df.drop(mask, axis=1, inplace=True)\n",
    "    df = df[df.index > dt.datetime(2003, 12, 2)]\n",
    "    df.to_csv(filepath)"
   ]
  }
 ],
 "metadata": {
  "kernelspec": {
   "display_name": "Python 3 (ipykernel)",
   "language": "python",
   "name": "python3"
  },
  "language_info": {
   "codemirror_mode": {
    "name": "ipython",
    "version": 3
   },
   "file_extension": ".py",
   "mimetype": "text/x-python",
   "name": "python",
   "nbconvert_exporter": "python",
   "pygments_lexer": "ipython3",
   "version": "3.11.6"
  }
 },
 "nbformat": 4,
 "nbformat_minor": 5
}
