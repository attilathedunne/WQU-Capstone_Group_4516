{
 "cells": [
  {
   "cell_type": "markdown",
   "id": "fd0e4c27-1ab7-4cdc-b4ab-104da092e0c3",
   "metadata": {},
   "source": [
    "### PreProcessing - Remove Non-Trading Days\n",
    "Through EDA it was apparent that pricing data is typically available later than fundamental data. This is intuitive as companies will need to file financial statements before they are necessarily publicly traded. This code removes the fundamental data before the first trading date"
   ]
  },
  {
   "cell_type": "code",
   "execution_count": 1,
   "id": "f0c40f3c-abf2-4b9e-a347-7bc4a136868e",
   "metadata": {},
   "outputs": [],
   "source": [
    "import operator\n",
    "import math\n",
    "import random\n",
    "import pandas as pd\n",
    "import datetime as dt\n",
    "import numpy as np\n",
    "import os\n",
    "import urllib\n",
    "import json\n",
    "import requests\n",
    "import matplotlib.pyplot as plt\n",
    "from io import StringIO\n",
    "\n",
    "from pathlib import Path\n",
    "from eod import EodHistoricalData\n",
    "\n",
    "from functools import partial\n",
    "\n",
    "from deap import algorithms\n",
    "from deap import base\n",
    "from deap import creator\n",
    "from deap import tools\n",
    "from deap import gp\n",
    "\n",
    "from sklearn.preprocessing import StandardScaler\n",
    "\n",
    "pd.set_option('display.max_rows', None)"
   ]
  },
  {
   "cell_type": "code",
   "execution_count": 2,
   "id": "556d2ebc-b5f4-47f6-b3a0-60d2397082de",
   "metadata": {},
   "outputs": [],
   "source": [
    "#paths for data - set prefix to location of Data folder\n",
    "path_prefix = r'C:\\Users\\OEM\\GDrive\\WQU'\n",
    "path_att = r'\\Data\\fundamentals_by_attribute'\n",
    "path_fun = r'\\Data\\fundamentals_by_ticker'\n",
    "path_std = r'\\Data\\standardised_fundamentals'\n",
    "path_eda = r'\\Data\\exploratory_data_analysis'\n",
    "path_rob = r'\\Data\\robust_scaling'\n",
    "path_ind = r'\\Data\\indicator_prices'"
   ]
  },
  {
   "cell_type": "code",
   "execution_count": 3,
   "id": "13e51390-2c74-4ba3-bf2c-4f52038ec05a",
   "metadata": {},
   "outputs": [],
   "source": [
    "os.chdir(path_prefix + path_ind)"
   ]
  },
  {
   "cell_type": "code",
   "execution_count": 4,
   "id": "60d3f590-699e-4340-b6b6-ceba236d5b2b",
   "metadata": {},
   "outputs": [],
   "source": [
    "files = [f for f in os.listdir() if os.path.isfile(f)]"
   ]
  },
  {
   "cell_type": "code",
   "execution_count": null,
   "id": "cde447bf-9c4a-4489-ba4e-a314ea2e35ac",
   "metadata": {},
   "outputs": [],
   "source": [
    "for file in files:\n",
    "    filepath = path_prefix + path_ind + \"/{}\".format(file)\n",
    "    try:\n",
    "        if os.path.isfile(filepath) == True and file != 'desktop.ini':\n",
    "            df_ind = pd.read_csv(filepath, index_col=0)\n",
    "            df_ind.index = pd.to_datetime(df_ind.index)\n",
    "            earliest_date = df_ind.index.min()\n",
    "    except:\n",
    "        print(\"Error on \" + filepath)\n",
    "        \n",
    "    filepath = filepath.replace(path_ind, path_rob)\n",
    "    filepath = filepath.replace(\"ind\", \"rob\")\n",
    "\n",
    "    try:\n",
    "        if os.path.isfile(filepath) == True and file != 'desktop.ini':\n",
    "            df_rob = pd.read_csv(filepath, index_col=0)\n",
    "            df_rob.index = pd.to_datetime(df_rob.index)\n",
    "            df_rob = df_rob.loc[df_rob.index > earliest_date]\n",
    "            df_rob.to_csv(filepath)\n",
    "    except:\n",
    "        print(\"Error on \" + filepath)\n",
    "        \n",
    "    \n",
    "    print(filepath + \" amended\")"
   ]
  },
  {
   "cell_type": "code",
   "execution_count": null,
   "id": "e4f4b86f-a48b-4606-8060-fbff3fd22789",
   "metadata": {},
   "outputs": [],
   "source": [
    "for file in files:\n",
    "    filepath = path_prefix + path_ind + \"/{}\".format(file)\n",
    "    try:\n",
    "        if os.path.isfile(filepath) == True and file != 'desktop.ini':\n",
    "            df_ind = pd.read_csv(filepath, index_col=0)\n",
    "            df_ind.index = pd.to_datetime(df_ind.index)\n",
    "            earliest_date = df_ind.index.min()\n",
    "    except:\n",
    "        print(\"Error on \" + filepath)\n",
    "        \n",
    "    filepath = filepath.replace(path_ind, path_rob)\n",
    "    filepath = filepath.replace(\"ind\", \"rob\")\n",
    "\n",
    "    try:\n",
    "        if os.path.isfile(filepath) == True and file != 'desktop.ini':\n",
    "            df_rob = pd.read_csv(filepath, index_col=0)\n",
    "            df_rob.index = pd.to_datetime(df_rob.index)\n",
    "            df_rob = df_rob.loc[df_rob.index > earliest_date]\n",
    "            df_rob.to_csv(filepath)\n",
    "    except:\n",
    "        print(\"Error on \" + filepath)\n",
    "        \n",
    "    \n",
    "    print(filepath + \" amended\")"
   ]
  }
 ],
 "metadata": {
  "kernelspec": {
   "display_name": "Python 3 (ipykernel)",
   "language": "python",
   "name": "python3"
  },
  "language_info": {
   "codemirror_mode": {
    "name": "ipython",
    "version": 3
   },
   "file_extension": ".py",
   "mimetype": "text/x-python",
   "name": "python",
   "nbconvert_exporter": "python",
   "pygments_lexer": "ipython3",
   "version": "3.11.6"
  }
 },
 "nbformat": 4,
 "nbformat_minor": 5
}
