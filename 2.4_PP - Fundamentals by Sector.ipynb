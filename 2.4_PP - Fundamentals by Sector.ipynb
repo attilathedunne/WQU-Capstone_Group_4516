{
 "cells": [
  {
   "cell_type": "markdown",
   "id": "fd0e4c27-1ab7-4cdc-b4ab-104da092e0c3",
   "metadata": {},
   "source": [
    "#### PreProcessing -Fundamentals by Industry\n",
    "Scaled fundamental data is concatenated by industry to allow training on all stocks in a given industry. This may help ovrefitting issues."
   ]
  },
  {
   "cell_type": "code",
   "execution_count": null,
   "id": "f0c40f3c-abf2-4b9e-a347-7bc4a136868e",
   "metadata": {},
   "outputs": [],
   "source": [
    "import operator\n",
    "import math\n",
    "import random\n",
    "import pandas as pd\n",
    "import datetime as dt\n",
    "import numpy as np\n",
    "import os\n",
    "import urllib\n",
    "import json\n",
    "import requests\n",
    "import matplotlib.pyplot as plt\n",
    "from io import StringIO\n",
    "\n",
    "from pathlib import Path\n",
    "from eod import EodHistoricalData\n",
    "\n",
    "from functools import partial\n",
    "\n",
    "from deap import algorithms\n",
    "from deap import base\n",
    "from deap import creator\n",
    "from deap import tools\n",
    "from deap import gp\n",
    "\n",
    "from sklearn.preprocessing import StandardScaler\n",
    "\n",
    "pd.set_option('display.max_rows', None)"
   ]
  },
  {
   "cell_type": "code",
   "execution_count": null,
   "id": "556d2ebc-b5f4-47f6-b3a0-60d2397082de",
   "metadata": {},
   "outputs": [],
   "source": [
    "#paths for data - set prefix to location of Data folder\n",
    "path_prefix = r'C:\\Users\\OEM\\GDrive\\WQU'\n",
    "path_att = r'\\Data\\fundamentals_by_attribute'\n",
    "path_fun = r'\\Data\\fundamentals_by_ticker'\n",
    "path_std = r'\\Data\\standardised_fundamentals'\n",
    "path_eda = r'\\Data\\exploratory_data_analysis'\n",
    "path_rob = r'\\Data\\robust_scaling'\n",
    "path_ind = r'\\Data\\indicator_prices'\n",
    "path_sec = r'\\Data\\rob_scaled_data_by_sector'"
   ]
  },
  {
   "cell_type": "code",
   "execution_count": null,
   "id": "3e7ab031-a687-41c6-bc37-1e3d4992acdb",
   "metadata": {},
   "outputs": [],
   "source": [
    "#Instantiate datasource client\n",
    "api_key = \"618f834b7bfe27.18132752\"\n",
    "client = EodHistoricalData(api_key)"
   ]
  },
  {
   "cell_type": "code",
   "execution_count": null,
   "id": "1caf8f64-fda1-4083-a36d-9d2c7e6ddb33",
   "metadata": {},
   "outputs": [],
   "source": [
    "#get ticker symbols from exchange\n",
    "resp = client.get_exchange_symbols(exchange='NYSE')"
   ]
  },
  {
   "cell_type": "code",
   "execution_count": null,
   "id": "287168f1-f9d7-4795-a739-513e56e0b9f1",
   "metadata": {},
   "outputs": [],
   "source": [
    "#create list of stock tickers\n",
    "tickers = []\n",
    "for i in range(len(resp)):\n",
    "    if resp[i]['Type'] == 'Common Stock' or resp[i]['Type'] == 'Preferred Stock' :\n",
    "        ticker = resp[i]['Code']\n",
    "        tickers.append(ticker)"
   ]
  },
  {
   "cell_type": "code",
   "execution_count": null,
   "id": "b2007de7-1cff-4fe8-a51e-c6c8e8874d4c",
   "metadata": {},
   "outputs": [],
   "source": [
    "industries = {}\n",
    "for ticker in tickers:\n",
    "    industry = client.get_fundamental_equity(ticker)['General']['Industry']\n",
    "    industries[ticker] = industry\n",
    "    df_industries = pd.Series(industries)\n",
    "    df_industries.to_csv(path_prefix + \"\\industries_by_ticker\")\n",
    "    print(ticker)"
   ]
  },
  {
   "cell_type": "code",
   "execution_count": null,
   "id": "6ff02172-0be3-4513-98f7-e65bb0e21f8b",
   "metadata": {},
   "outputs": [],
   "source": [
    "df_industries = pd.read_csv(path_prefix + \"\\industries_by_ticker\", index_col=0, names=['Industry'])"
   ]
  },
  {
   "cell_type": "code",
   "execution_count": null,
   "id": "a694f41b-8d02-4a7f-8cf1-50327925cf8f",
   "metadata": {},
   "outputs": [],
   "source": [
    "for ticker in tickers:\n",
    "    filepath = Path(path_prefix + path_rob + '/df_rob_{}.csv'.format(ticker))\n",
    "    \n",
    "    if os.path.isfile(filepath) == True:\n",
    "        df_rob = pd.read_csv(filepath, index_col=0)\n",
    "        industry = df_industries.loc[ticker, 'Industry']\n",
    "        \n",
    "        filepath = Path(path_prefix + path_sec + '/df_{}.csv'.format(industry))\n",
    "        \n",
    "        if os.path.isfile(filepath) == False:\n",
    "            \n",
    "            filepath.parent.mkdir(parents=True, exist_ok=True)  \n",
    "            df_rob.to_csv(filepath)\n",
    "            \n",
    "        else:  \n",
    "            \n",
    "            df_rob_sec = pd.read_csv(filepath, index_col=0)\n",
    "            concat = pd.concat([df_rob_sec, df_rob])\n",
    "            concat.to_csv(filepath)\n",
    "            \n",
    "            print(ticker + \" complete\")"
   ]
  },
  {
   "cell_type": "code",
   "execution_count": null,
   "id": "10bd12a7-ef3f-4759-ad4b-d5967cbd4ebd",
   "metadata": {},
   "outputs": [],
   "source": []
  },
  {
   "cell_type": "code",
   "execution_count": null,
   "id": "ecf8b437-580c-4b33-b2fb-1af00c1361d5",
   "metadata": {},
   "outputs": [],
   "source": []
  },
  {
   "cell_type": "code",
   "execution_count": null,
   "id": "324de607-4716-4bad-97e5-7024a0d933ab",
   "metadata": {},
   "outputs": [],
   "source": []
  },
  {
   "cell_type": "code",
   "execution_count": null,
   "id": "b762d045-730d-451f-bf70-070399dfe8e2",
   "metadata": {},
   "outputs": [],
   "source": [
    "resp = client.get_fundamental_equity('AAP')['General']['Industry']"
   ]
  },
  {
   "cell_type": "code",
   "execution_count": null,
   "id": "5e470499-8667-4c93-b9a0-9aa84f397f23",
   "metadata": {},
   "outputs": [],
   "source": [
    "resp"
   ]
  },
  {
   "cell_type": "code",
   "execution_count": null,
   "id": "9c53f5dd-8419-451d-aef8-38b3c3ce8871",
   "metadata": {},
   "outputs": [],
   "source": []
  },
  {
   "cell_type": "code",
   "execution_count": null,
   "id": "cabaa841-554e-4b84-adc0-55557faae0d6",
   "metadata": {},
   "outputs": [],
   "source": []
  },
  {
   "cell_type": "code",
   "execution_count": null,
   "id": "7763e4e4-c097-4488-b4d6-6bf7d9455bd7",
   "metadata": {},
   "outputs": [],
   "source": []
  },
  {
   "cell_type": "code",
   "execution_count": null,
   "id": "13e51390-2c74-4ba3-bf2c-4f52038ec05a",
   "metadata": {},
   "outputs": [],
   "source": [
    "os.chdir(path_prefix + path_ind)"
   ]
  },
  {
   "cell_type": "code",
   "execution_count": null,
   "id": "60d3f590-699e-4340-b6b6-ceba236d5b2b",
   "metadata": {},
   "outputs": [],
   "source": [
    "files = [f for f in os.listdir() if os.path.isfile(f)]"
   ]
  },
  {
   "cell_type": "code",
   "execution_count": null,
   "id": "cde447bf-9c4a-4489-ba4e-a314ea2e35ac",
   "metadata": {},
   "outputs": [],
   "source": [
    "for file in files:\n",
    "    filepath = path_prefix + path_rob + \"/{}\".format(file)\n",
    "    try:\n",
    "        if os.path.isfile(filepath) == True and file != 'desktop.ini':\n",
    "            df_rob = pd.read_csv(filepath, index_col=0)\n",
    "            df_rob.index = pd.to_datetime(df_rob.index)\n",
    "            df_rob = df_rob.loc[df_rob.index > earliest_date]\n",
    "            df_rob.to_csv(filepath)\n",
    "    except:\n",
    "        print(\"Error on \" + filepath)\n",
    "        \n",
    "    \n",
    "    print(filepath + \" amended\")"
   ]
  },
  {
   "cell_type": "code",
   "execution_count": null,
   "id": "e4f4b86f-a48b-4606-8060-fbff3fd22789",
   "metadata": {},
   "outputs": [],
   "source": []
  }
 ],
 "metadata": {
  "kernelspec": {
   "display_name": "Python 3 (ipykernel)",
   "language": "python",
   "name": "python3"
  },
  "language_info": {
   "codemirror_mode": {
    "name": "ipython",
    "version": 3
   },
   "file_extension": ".py",
   "mimetype": "text/x-python",
   "name": "python",
   "nbconvert_exporter": "python",
   "pygments_lexer": "ipython3",
   "version": "3.11.6"
  }
 },
 "nbformat": 4,
 "nbformat_minor": 5
}
