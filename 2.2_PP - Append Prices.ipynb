{
 "cells": [
  {
   "cell_type": "markdown",
   "id": "c01d7b92-ccc9-4522-98f9-3a84169019f0",
   "metadata": {},
   "source": [
    "### PreProcessing - Append Prices\n",
    "Add closing price to fundamental data csv files for each filing date (or closest available date)"
   ]
  },
  {
   "cell_type": "code",
   "execution_count": null,
   "id": "135d6d3f-7445-48ae-a8ec-5661d7ec1301",
   "metadata": {},
   "outputs": [],
   "source": [
    "import operator\n",
    "import math\n",
    "import random\n",
    "import pandas as pd\n",
    "import datetime as dt\n",
    "import numpy as np\n",
    "import os\n",
    "import urllib\n",
    "import json\n",
    "import requests\n",
    "from io import StringIO\n",
    "\n",
    "from pathlib import Path\n",
    "from eod import EodHistoricalData\n",
    "\n",
    "from functools import partial\n",
    "\n",
    "from deap import algorithms\n",
    "from deap import base\n",
    "from deap import creator\n",
    "from deap import tools\n",
    "from deap import gp\n",
    "\n",
    "from sklearn.preprocessing import StandardScaler\n",
    "\n",
    "pd.set_option('display.max_rows', None)"
   ]
  },
  {
   "cell_type": "code",
   "execution_count": 3,
   "id": "97b498fb-9d24-4448-a1cb-5ade7b55455b",
   "metadata": {},
   "outputs": [],
   "source": [
    "#paths for data - set prefix to location of Data folder\n",
    "path_prefix = r'C:\\Users\\OEM\\GDrive\\WQU'\n",
    "path_att = r'\\Data\\fundamentals_by_attribute'\n",
    "path_fun = r'\\Data\\fundamentals_by_ticker'\n",
    "path_std = r'\\Data\\standardised_fundamentals'\n",
    "path_eda = r'\\Data\\exploratory_data_analysis'\n",
    "path_rob = r'\\Data\\robust_scaling'"
   ]
  },
  {
   "cell_type": "code",
   "execution_count": 4,
   "id": "4ca63967-4d12-4a9c-b20a-cfbb2467f631",
   "metadata": {
    "tags": []
   },
   "outputs": [],
   "source": [
    "#Instantiate datasource client\n",
    "api_key = \"618f834b7bfe27.18132752\"\n",
    "client = EodHistoricalData(api_key)"
   ]
  },
  {
   "cell_type": "code",
   "execution_count": 5,
   "id": "08c4870f-9aa0-463d-b46f-014d81bbf388",
   "metadata": {
    "tags": []
   },
   "outputs": [],
   "source": [
    "#get ticker symbols from exchange\n",
    "resp = client.get_exchange_symbols(exchange='NYSE')"
   ]
  },
  {
   "cell_type": "code",
   "execution_count": 6,
   "id": "4580f460-fd9a-4fc4-8fa2-152bf1b42f50",
   "metadata": {
    "tags": []
   },
   "outputs": [],
   "source": [
    "#create list of stock tickers\n",
    "tickers = []\n",
    "for i in range(len(resp)):\n",
    "    if resp[i]['Type'] == 'Common Stock' or resp[i]['Type'] == 'Preferred Stock' :\n",
    "        ticker = resp[i]['Code']\n",
    "        tickers.append(ticker)"
   ]
  },
  {
   "cell_type": "code",
   "execution_count": null,
   "id": "d0704640-fa78-4af7-9efc-72e64425f52e",
   "metadata": {
    "tags": []
   },
   "outputs": [],
   "source": [
    "#submission dates for financial statements are typically last day of the month which may be a weekend with no trading - so gaps need to be filled from prices beforehand\n",
    "#for each ticker get prices and add NaN column\n",
    "for ticker in tickers:\n",
    "    filepath = Path(path_prefix + path_rob + \"/\" + 'df_rob_{}.csv'.format(ticker))\n",
    "    print(ticker)\n",
    "    if os.path.isfile(filepath) == True:\n",
    "        prices = client.get_prices_eod(ticker)\n",
    "        df_prices = pd.DataFrame(prices)\n",
    "        df_prices.set_index('date', inplace=True)\n",
    "        df_prices.index = pd.to_datetime(df_prices.index)\n",
    "        #df_prices['prev_close'] = np.nan\n",
    "        \n",
    "        #read standardised fundamentals \n",
    "        df_std = pd.read_csv(filepath, index_col=0)\n",
    "        df_std.index = pd.to_datetime(df_std.index)\n",
    "        \n",
    "        #if adj close already appended - remove\n",
    "        if 'adjusted_close' in df_std.columns:\n",
    "            df_std.drop('adjusted_close', axis=1, inplace=True)\n",
    "        \n",
    "        #join close prices to fundamentals on date \n",
    "        df_std = df_std.join(df_prices['adjusted_close'], how='left')\n",
    "        \n",
    "        #for each row in fundamentals if no price was joined use the price from 1,2 or 3 days previous\n",
    "        for i in range(len(df_std)):\n",
    "            loc_ac = df_std.columns.get_loc('adjusted_close')\n",
    "    \n",
    "            if math.isnan(df_std.iloc[i, loc_ac]):\n",
    "                idx = df_std.index[i]\n",
    "                try:\n",
    "                    idx = idx - dt.timedelta(days=1)\n",
    "                    df_std.iloc[i, loc_ac] = df_prices.loc[idx, 'adjusted_close']\n",
    "                except:\n",
    "                    print('No price for {}'.format(idx))\n",
    "\n",
    "                try:\n",
    "                    idx = idx - dt.timedelta(days=1)\n",
    "                    df_std.iloc[i, loc_ac] = df_prices.loc[idx, 'adjusted_close']\n",
    "                except:\n",
    "                    print('No price for {}'.format(idx))\n",
    "\n",
    "                try:\n",
    "                    idx = idx - dt.timedelta(days=1)\n",
    "                    df_std.iloc[i, loc_ac] = df_prices.loc[idx, 'adjusted_close']\n",
    "                except:\n",
    "                    print('No price for {}'.format(idx)) \n",
    "    ''' \n",
    "        for i in range(len(df_prices)):\n",
    "            loc_ac = df_prices.columns.get_loc('adjusted_close')\n",
    "            loc_pc = df_prices.columns.get_loc('prev_close')\n",
    "            \n",
    "            if i >= 2:\n",
    "                prev_close = df_prices.iloc[i-2, loc_ac]\n",
    "                df_prices.iloc[i, loc_pc] = prev_close\n",
    "                \n",
    "        df_std = df_std.join(df_prices['prev_close'], how='left')\n",
    "    '''\n",
    "    df_std.to_csv(filepath)"
   ]
  }
 ],
 "metadata": {
  "kernelspec": {
   "display_name": "Python 3 (ipykernel)",
   "language": "python",
   "name": "python3"
  },
  "language_info": {
   "codemirror_mode": {
    "name": "ipython",
    "version": 3
   },
   "file_extension": ".py",
   "mimetype": "text/x-python",
   "name": "python",
   "nbconvert_exporter": "python",
   "pygments_lexer": "ipython3",
   "version": "3.11.6"
  }
 },
 "nbformat": 4,
 "nbformat_minor": 5
}
