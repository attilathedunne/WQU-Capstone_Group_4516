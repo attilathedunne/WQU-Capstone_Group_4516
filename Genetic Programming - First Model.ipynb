{
 "cells": [
  {
   "cell_type": "markdown",
   "id": "678e90c5-7a01-48ea-a521-b8346bf12cbc",
   "metadata": {},
   "source": [
    "### Genetic Programming - First Model\n",
    "First implementation of GP using tree depth of 2 to 3 and basic operators. Strongly typed GP is used to ensure final tree node produces required signal string. Fitness function evaluates performance of each trading rule based on buy/sell signals and closing prices on day of financial statement. Uses Robust Scaler and attributes with min. 80% complete data."
   ]
  },
  {
   "cell_type": "code",
   "execution_count": 1,
   "id": "a1fbdbb2",
   "metadata": {
    "executionInfo": {
     "elapsed": 7,
     "status": "ok",
     "timestamp": 1699647395284,
     "user": {
      "displayName": "Kevin Dunne",
      "userId": "15084136702634259106"
     },
     "user_tz": -780
    },
    "id": "d19ccf9e-7469-4aa0-b8dc-aeeab1d894b7"
   },
   "outputs": [],
   "source": [
    "import operator\n",
    "import math\n",
    "import random\n",
    "import pandas as pd\n",
    "import datetime as dt\n",
    "import numpy as np\n",
    "import pygraphviz as pgv\n",
    "import os\n",
    "import urllib\n",
    "import json\n",
    "import requests\n",
    "from io import StringIO\n",
    "import sys\n",
    "from pathlib import Path\n",
    "from eod import EodHistoricalData\n",
    "\n",
    "from functools import partial\n",
    "\n",
    "from deap import algorithms\n",
    "from deap import base\n",
    "from deap import creator\n",
    "from deap import tools\n",
    "from deap import gp\n",
    "\n",
    "pd.set_option('display.max_rows', None)"
   ]
  },
  {
   "cell_type": "code",
   "execution_count": 4,
   "id": "d0ceae30-e122-4704-aa1f-15c34b9d3d62",
   "metadata": {},
   "outputs": [],
   "source": [
    "#paths for data - set prefix to location of Data folder\n",
    "path_prefix = r'C:\\Users\\OEM\\GDrive\\WQU'\n",
    "path_att = r'\\Data\\fundamentals_by_attribute'\n",
    "path_fun = r'\\Data\\fundamentals_by_ticker'\n",
    "path_std = r'\\Data\\standardised_fundamentals'\n",
    "path_eda = r'\\Data\\exploratory_data_analysis'\n",
    "path_rob = r'\\Data\\robust_scaling'\n",
    "path_cor = r'\\Data\\correlation_matrices'"
   ]
  },
  {
   "cell_type": "code",
   "execution_count": 5,
   "id": "9ff8fe4c-cf06-43c7-91e9-2bdd25026279",
   "metadata": {},
   "outputs": [],
   "source": [
    "#read csv of % NaN values by attribute\n",
    "mean_pct_nans = pd.read_csv(path_prefix + path_eda + \"/df_agg.csv\", index_col=0).loc['pct_nan']\n",
    "mean_pct_nans.sort_values(inplace=True)\n",
    "to_drop = mean_pct_nans[mean_pct_nans > 20].index.to_list()"
   ]
  },
  {
   "cell_type": "code",
   "execution_count": 6,
   "id": "759367c5-7fdc-4c6f-9078-bba7b886f38e",
   "metadata": {},
   "outputs": [],
   "source": [
    "#read \n",
    "filepath = Path(path_prefix + path_fun + '\\df_fun_TECK.csv')\n",
    "df = pd.read_csv(filepath, index_col=0, parse_dates=True)\n",
    "df.drop(['date', 'filing_date', 'currency_symbol'], inplace=True)\n",
    "df.drop(to_drop, inplace=True)"
   ]
  },
  {
   "cell_type": "code",
   "execution_count": 7,
   "id": "d0967f6a-2a5f-4e92-a8f7-f7c964ce1296",
   "metadata": {},
   "outputs": [],
   "source": [
    "#create list of types for when iniitialising Pset (float x num attributes)\n",
    "num_atts = len(df)\n",
    "types_list = []\n",
    "for i in range(num_atts):\n",
    "    types_list.append(float)"
   ]
  },
  {
   "cell_type": "code",
   "execution_count": 8,
   "id": "483bda4d-ec1a-4c58-a9bb-a784decd9198",
   "metadata": {},
   "outputs": [],
   "source": [
    "#initialise Pset to receive floats and output string (buy/sell/hold)\n",
    "pset = gp.PrimitiveSetTyped(\"main\", types_list, str)"
   ]
  },
  {
   "cell_type": "code",
   "execution_count": 9,
   "id": "280daeaa-a384-4aeb-83cf-f7035c51a2bd",
   "metadata": {},
   "outputs": [],
   "source": [
    "#rename input arguments (Terminals) with fundamental attribute names\n",
    "for i in range(num_atts): \n",
    "    ind_name =  df.index[i]\n",
    "    if ind_name != 'date' and ind_name != 'currency_symbol' and ind_name != 'filing_date' :\n",
    "        argstring = \"ARG{}\".format(str(i))\n",
    "        pset.renameArguments(**{argstring:ind_name})"
   ]
  },
  {
   "cell_type": "code",
   "execution_count": 10,
   "id": "0604423c",
   "metadata": {
    "id": "85a3a0e8-978d-4128-a989-758fae1d6704"
   },
   "outputs": [],
   "source": [
    "# Define new functions\n",
    "def protectedDiv(left, right):\n",
    "    try:\n",
    "        return left / right\n",
    "    except ZeroDivisionError:\n",
    "        return 1"
   ]
  },
  {
   "cell_type": "code",
   "execution_count": 11,
   "id": "e3bffe97-cc02-4cc7-93ce-da6c03353108",
   "metadata": {
    "tags": []
   },
   "outputs": [],
   "source": [
    "#define function to provide signal\n",
    "def buy_sell (A, B):\n",
    "    if A > B:\n",
    "        return 'buy'\n",
    "    elif A < B:\n",
    "        return 'sell'\n",
    "    else:\n",
    "        return 'hold'"
   ]
  },
  {
   "cell_type": "code",
   "execution_count": 12,
   "id": "541ea681-3891-48f5-9046-95d377ad4dd1",
   "metadata": {
    "tags": []
   },
   "outputs": [],
   "source": [
    "#add functions to Primitive set\n",
    "pset.addPrimitive(buy_sell, [float, float], str)\n",
    "pset.addPrimitive(operator.add, [float, float], float)\n",
    "pset.addPrimitive(operator.sub, [float, float], float)\n",
    "pset.addPrimitive(operator.mul, [float, float], float)\n",
    "pset.addPrimitive(protectedDiv, [float, float], float)"
   ]
  },
  {
   "cell_type": "code",
   "execution_count": 13,
   "id": "ae41e416-8061-4fe4-9f65-e699b401d787",
   "metadata": {},
   "outputs": [],
   "source": [
    "#create invididual class to maximise fitness\n",
    "creator.create(\"FitnessMax\", base.Fitness, weights=(1.0,))\n",
    "creator.create(\"Individual\", gp.PrimitiveTree, fitness=creator.FitnessMax, pset=pset)"
   ]
  },
  {
   "cell_type": "code",
   "execution_count": 14,
   "id": "2d5b5001",
   "metadata": {
    "id": "46d868c0-c456-4bf8-9668-fe0389956e70"
   },
   "outputs": [],
   "source": [
    "#instantiate toolbox and register components for evolving trees\n",
    "toolbox = base.Toolbox()\n",
    "toolbox.register(\"expr\", gp.genHalfAndHalf, pset=pset, min_=2, max_=3)\n",
    "toolbox.register(\"individual\", tools.initIterate, creator.Individual, toolbox.expr)\n",
    "toolbox.register(\"population\", tools.initRepeat, list, toolbox.individual)\n",
    "toolbox.register(\"compile\", gp.compile, pset=pset)"
   ]
  },
  {
   "cell_type": "code",
   "execution_count": 15,
   "id": "2de1a878-83cb-42da-8b4b-6997aaf3c2a5",
   "metadata": {},
   "outputs": [],
   "source": [
    "individual = toolbox.individual()"
   ]
  },
  {
   "cell_type": "code",
   "execution_count": 16,
   "id": "0e4477f2-1537-48a1-a2e0-d69a648f2c0c",
   "metadata": {
    "tags": []
   },
   "outputs": [
    {
     "data": {
      "text/plain": [
       "'buy_sell(totalAssets, retainedEarnings)'"
      ]
     },
     "execution_count": 16,
     "metadata": {},
     "output_type": "execute_result"
    }
   ],
   "source": [
    "expr = gp.genFull(pset, min_=1, max_=3)\n",
    "tree = gp.PrimitiveTree(expr)\n",
    "str(tree)"
   ]
  },
  {
   "cell_type": "code",
   "execution_count": 17,
   "id": "ac4c4925-af00-4dfe-bf9b-dc8353921474",
   "metadata": {
    "tags": []
   },
   "outputs": [],
   "source": [
    "#load dataframe of robust scaled fundamentals\n",
    "ticker = \"AA\"\n",
    "filepath = Path(path_prefix + path_rob + '\\df_rob_{}.csv'.format(ticker))\n",
    "df_std = pd.read_csv(filepath, index_col=0)\n",
    "df_std.drop(to_drop, axis=1, inplace=True)\n",
    "df_std.sort_index(inplace=True)\n",
    "df_std['signal'] = \"\""
   ]
  },
  {
   "cell_type": "code",
   "execution_count": 18,
   "id": "b05717a9-c78e-4ea8-ad28-28e0042da9b3",
   "metadata": {
    "tags": []
   },
   "outputs": [],
   "source": [
    "def eval_trading_rule(individual):\n",
    "    #transform the tree in to a callable function\n",
    "    function = toolbox.compile(expr=individual)\n",
    "    \n",
    "    #generate signal - pass each value to evolved function as a variable, add signal to df\\\n",
    "    for row in df_std.index:\n",
    "        var_list = []\n",
    "        for col in df_std.columns:\n",
    "            if col != 'signal' and col != 'adjusted_close' and col != 'prev_close':\n",
    "                var = df_std.loc[row, col]\n",
    "                var_list.append(var)\n",
    "        signal = function(*var_list)\n",
    "        df_std.loc[row, 'signal'] = signal\n",
    "\n",
    "    #initialise variables\n",
    "    buy_price = 0\n",
    "    sell_price = 0\n",
    "    bank = 10000\n",
    "\n",
    "    #Loop through df and check entry signal (SELL to BUY) or exit signal (BUY to SELL) generated\n",
    "    for i in range(len(df_std)):\n",
    "        loc_ac = df_std.columns.get_loc('adjusted_close') \n",
    "        loc_sig = df_std.columns.get_loc('signal') \n",
    "\n",
    "        if df_std.iloc[i, loc_sig] == 'buy' and (df_std.iloc[i-1, loc_sig] == 'sell' or df_std.iloc[i-1, loc_ac] == 'hold') and i > 0:\n",
    "            buy_price = df_std.iloc[i, loc_ac]\n",
    "            buy_date = df_std.index[i]\n",
    "            #print('Bought at ${} on {}'.format(buy_price, buy_date))\n",
    "\n",
    "        elif df_std.iloc[i, loc_sig] == 'sell' and (df_std.iloc[i-1, loc_sig] == 'buy' or df_std.iloc[i-1, loc_sig] == 'hold')  and i > 0:\n",
    "            sell_price = df_std.iloc[i, loc_ac]\n",
    "            sell_date = df_std.index[i]\n",
    "            #print('Sold at ${} on {}'.format(sell_price, sell_date))\n",
    "            \n",
    "        else:\n",
    "            None\n",
    "\n",
    "        #Check if buy and sell complete and update bank if so\n",
    "        if buy_price > 0 and sell_price > 0:\n",
    "            bank = bank + (sell_price - buy_price)\n",
    "            buy_price = 0\n",
    "            sell_price = 0\n",
    "            #print(\"New bank = {}\".format(bank))\n",
    "\n",
    "    #print(\"Final bank = {}\".format(bank))\n",
    "    bank = [bank]\n",
    "    return tuple(bank)"
   ]
  },
  {
   "cell_type": "code",
   "execution_count": 19,
   "id": "3685fba5-d976-4e79-8254-a129c4b39492",
   "metadata": {
    "tags": []
   },
   "outputs": [
    {
     "name": "stderr",
     "output_type": "stream",
     "text": [
      "C:\\Users\\OEM\\AppData\\Local\\Temp\\ipykernel_55892\\2914246927.py:4: RuntimeWarning: divide by zero encountered in scalar divide\n",
      "  return left / right\n"
     ]
    },
    {
     "data": {
      "text/plain": [
       "(10046.874800000001,)"
      ]
     },
     "execution_count": 19,
     "metadata": {},
     "output_type": "execute_result"
    }
   ],
   "source": [
    "eval_trading_rule(individual)"
   ]
  },
  {
   "cell_type": "code",
   "execution_count": 20,
   "id": "36fc2633-487b-4466-8ce8-3dbe6328ec73",
   "metadata": {},
   "outputs": [],
   "source": [
    "toolbox.register(\"evaluate\", eval_trading_rule)\n",
    "toolbox.register(\"select\", tools.selTournament, tournsize=5)\n",
    "toolbox.register(\"mate\", gp.cxOnePoint)\n",
    "toolbox.register(\"expr_mut\", gp.genHalfAndHalf, min_=1, max_=1)\n",
    "toolbox.register(\"mutate\", gp.mutUniform, expr=toolbox.expr_mut, pset=pset)"
   ]
  },
  {
   "cell_type": "code",
   "execution_count": 21,
   "id": "5cc5803c-b509-4642-80d6-5c3c34dc74a1",
   "metadata": {},
   "outputs": [],
   "source": [
    "def main():\n",
    "    random.seed(10)\n",
    "    pop = toolbox.population(n=250)\n",
    "    hof = tools.HallOfFame(1)\n",
    "    stats = tools.Statistics(lambda ind: ind.fitness.values)\n",
    "    stats.register(\"avg\", np.mean)\n",
    "    stats.register(\"std\", np.std)\n",
    "    stats.register(\"min\", np.min)\n",
    "    stats.register(\"max\", np.max)\n",
    "\n",
    "    #algorithms.eaSimple(pop, toolbox, 0.5, 0.2, 40, stats, halloffame=None)\n",
    "    algorithms.eaSimple(pop, toolbox, 0.4, 0.2, 100, stats=stats, halloffame=hof)\n",
    "    return pop, stats, hof"
   ]
  },
  {
   "cell_type": "code",
   "execution_count": 22,
   "id": "fcaad36c-5a26-4d2e-bb16-0061e74c0668",
   "metadata": {},
   "outputs": [
    {
     "name": "stderr",
     "output_type": "stream",
     "text": [
      "C:\\Users\\OEM\\AppData\\Local\\Temp\\ipykernel_55892\\2914246927.py:4: RuntimeWarning: divide by zero encountered in scalar divide\n",
      "  return left / right\n",
      "C:\\Users\\OEM\\AppData\\Local\\Temp\\ipykernel_55892\\2914246927.py:4: RuntimeWarning: invalid value encountered in scalar divide\n",
      "  return left / right\n"
     ]
    },
    {
     "name": "stdout",
     "output_type": "stream",
     "text": [
      "gen\tnevals\tavg    \tstd    \tmin    \tmax    \n",
      "0  \t250   \t9991.84\t30.8581\t9918.27\t10085.5\n",
      "1  \t126   \t10016.1\t30.267 \t9903.65\t10085.5\n",
      "2  \t124   \t10031.2\t30.9834\t9932.72\t10085.5\n",
      "3  \t143   \t10037.1\t33.5415\t9932.61\t10089.7\n"
     ]
    },
    {
     "name": "stderr",
     "output_type": "stream",
     "text": [
      "<string>:1: RuntimeWarning: invalid value encountered in scalar multiply\n"
     ]
    },
    {
     "name": "stdout",
     "output_type": "stream",
     "text": [
      "4  \t113   \t10047.9\t35.4257\t9929.89\t10094.8\n",
      "5  \t121   \t10053.2\t40.9447\t9932.11\t10098  \n",
      "6  \t140   \t10057.6\t40.0978\t9923.38\t10098  \n",
      "7  \t132   \t10060.8\t39.2388\t9932.34\t10098  \n",
      "8  \t124   \t10068.8\t37.9429\t9929.94\t10102.4\n",
      "9  \t131   \t10067.4\t39.4192\t9935.92\t10102.4\n"
     ]
    },
    {
     "name": "stderr",
     "output_type": "stream",
     "text": [
      "<string>:1: RuntimeWarning: invalid value encountered in scalar add\n"
     ]
    },
    {
     "name": "stdout",
     "output_type": "stream",
     "text": [
      "10 \t124   \t10070.3\t40.0239\t9939.56\t10102.4\n",
      "11 \t127   \t10068.2\t43.5748\t9929.87\t10102.4\n",
      "12 \t138   \t10066.9\t46.4742\t9919.45\t10102.4\n",
      "13 \t133   \t10068  \t45.7353\t9928.16\t10102.4\n",
      "14 \t120   \t10073.9\t41.1304\t9929.87\t10102.4\n",
      "15 \t136   \t10068.8\t43.0271\t9935.92\t10107.3\n",
      "16 \t129   \t10072.2\t44.0601\t9919.45\t10107.3\n",
      "17 \t131   \t10066.5\t46.8916\t9913.11\t10107.3\n",
      "18 \t118   \t10071.5\t42.3209\t9936.54\t10107.3\n",
      "19 \t128   \t10069.9\t46.1973\t9934.23\t10107.3\n",
      "20 \t142   \t10067.2\t44.9765\t9929.87\t10107.3\n",
      "21 \t113   \t10074  \t47.5658\t9917.1 \t10107.3\n",
      "22 \t106   \t10078.2\t42.6492\t9923.32\t10107.3\n",
      "23 \t129   \t10073.8\t43.3129\t9925.99\t10107.3\n",
      "24 \t137   \t10075.1\t42.7266\t9922.21\t10112.7\n",
      "25 \t138   \t10078.3\t38.1501\t9939.08\t10112.7\n",
      "26 \t130   \t10083.4\t34.3109\t9956.99\t10112.7\n",
      "27 \t119   \t10083.3\t37.4023\t9936.88\t10112.7\n",
      "28 \t119   \t10083  \t38.0511\t9929.9 \t10112.7\n",
      "29 \t130   \t10085.2\t35.5967\t9950.97\t10113.5\n",
      "30 \t129   \t10086.5\t35.8799\t9966.92\t10113.5\n",
      "31 \t114   \t10091.7\t35.5989\t9933.36\t10113.5\n",
      "32 \t124   \t10090.4\t35.2085\t9949.39\t10113.5\n",
      "33 \t147   \t10082.1\t41.4327\t9941.18\t10113.9\n",
      "34 \t136   \t10085.4\t37.2622\t9954.31\t10113.9\n",
      "35 \t123   \t10089.2\t34.4829\t9917.61\t10113.9\n",
      "36 \t126   \t10086.9\t37.7818\t9947.51\t10113.9\n",
      "37 \t132   \t10088.4\t36.5833\t9965.67\t10113.9\n",
      "38 \t145   \t10086  \t39.8478\t9916.47\t10113.9\n",
      "39 \t125   \t10090.5\t35.8213\t9938.88\t10113.9\n",
      "40 \t124   \t10087  \t39.5747\t9947.03\t10113.9\n",
      "41 \t119   \t10092.6\t35.9058\t9935.23\t10114.7\n",
      "42 \t123   \t10088.8\t37.5597\t9947.14\t10114.7\n",
      "43 \t122   \t10094.9\t31.1867\t9957.3 \t10114.7\n",
      "44 \t145   \t10085.5\t38.1468\t9932.64\t10114.7\n",
      "45 \t129   \t10090.3\t36.9086\t9914.72\t10114.7\n",
      "46 \t134   \t10089.6\t35.7682\t9938.07\t10114.7\n",
      "47 \t140   \t10088.2\t35.9886\t9927.27\t10114.7\n",
      "48 \t123   \t10092.6\t36.2893\t9907.58\t10114.7\n",
      "49 \t119   \t10093.7\t34.9462\t9913.85\t10114.7\n",
      "50 \t124   \t10092  \t35.7859\t9946.77\t10114.7\n",
      "51 \t127   \t10092.8\t31.8984\t9957.62\t10114.7\n",
      "52 \t138   \t10088.8\t36.2349\t9948.08\t10114.7\n",
      "53 \t127   \t10093.1\t32.2154\t9953.07\t10114.7\n",
      "54 \t136   \t10092.1\t32.8111\t9957.3 \t10114.7\n",
      "55 \t143   \t10085.1\t37.5937\t9954.13\t10114.7\n",
      "56 \t154   \t10085.8\t37.4039\t9957.3 \t10114.7\n",
      "57 \t137   \t10089.7\t33.2957\t9957.3 \t10114.7\n",
      "58 \t126   \t10092.4\t31.2563\t9957.3 \t10114.7\n",
      "59 \t127   \t10088.3\t36.6418\t9949.48\t10114.7\n",
      "60 \t129   \t10091.6\t35.4639\t9938.07\t10114.7\n",
      "61 \t109   \t10092.7\t37.0141\t9937.19\t10114.7\n",
      "62 \t112   \t10093.2\t33.6472\t9942.89\t10114.7\n",
      "63 \t139   \t10089.5\t36.465 \t9948.82\t10114.7\n",
      "64 \t132   \t10089.2\t38.2275\t9928.72\t10114.7\n",
      "65 \t138   \t10084.8\t39.3539\t9957.3 \t10114.7\n",
      "66 \t131   \t10091.2\t33.1785\t9953.18\t10114.7\n",
      "67 \t140   \t10089.7\t37.8459\t9941.83\t10114.7\n",
      "68 \t146   \t10091.8\t30.0488\t9956.6 \t10114.7\n",
      "69 \t143   \t10088.7\t35.2451\t9959.18\t10114.7\n",
      "70 \t112   \t10092.1\t33.2404\t9969.4 \t10114.7\n",
      "71 \t118   \t10093.3\t33.5332\t9957.3 \t10114.7\n",
      "72 \t122   \t10093.9\t34.2149\t9926.38\t10114.7\n",
      "73 \t127   \t10086.8\t39.8766\t9938   \t10114.7\n",
      "74 \t128   \t10089.3\t38.8031\t9935.28\t10114.7\n",
      "75 \t125   \t10087.9\t41.1418\t9931.58\t10114.7\n",
      "76 \t126   \t10090.4\t36.7336\t9947.23\t10114.7\n",
      "77 \t165   \t10085.2\t38.3967\t9956.01\t10114.7\n",
      "78 \t130   \t10087.8\t38.2936\t9920.96\t10114.7\n",
      "79 \t115   \t10092.1\t36.3602\t9939.32\t10114.7\n",
      "80 \t124   \t10091.6\t34.2713\t9943.17\t10114.7\n",
      "81 \t141   \t10089.7\t37.0099\t9942.81\t10114.7\n",
      "82 \t123   \t10092.8\t33.8794\t9952.25\t10114.7\n",
      "83 \t118   \t10092.1\t34.3251\t9942.57\t10114.7\n",
      "84 \t120   \t10089  \t39.3333\t9933.01\t10114.7\n",
      "85 \t147   \t10090  \t34.7275\t9930.65\t10114.7\n",
      "86 \t120   \t10090.4\t34.7292\t9959.49\t10114.7\n",
      "87 \t134   \t10091.9\t33.1054\t9977.34\t10114.7\n",
      "88 \t137   \t10093.7\t30.8491\t9965.39\t10114.7\n",
      "89 \t136   \t10088  \t36.6849\t9944.48\t10114.7\n",
      "90 \t137   \t10089.7\t36.4863\t9957.3 \t10114.7\n",
      "91 \t129   \t10089.9\t36.2907\t9958.25\t10114.7\n",
      "92 \t105   \t10096.8\t30.3694\t9957.3 \t10114.7\n",
      "93 \t125   \t10093.2\t31.5593\t9987.37\t10114.7\n",
      "94 \t133   \t10087.2\t39.1182\t9946.52\t10114.7\n",
      "95 \t130   \t10090.8\t34.1834\t9916.48\t10114.7\n",
      "96 \t147   \t10087.8\t36.0264\t9959.07\t10114.7\n",
      "97 \t128   \t10090.1\t35.5307\t9937.42\t10114.7\n",
      "98 \t136   \t10091.4\t32.944 \t9945.08\t10114.7\n",
      "99 \t153   \t10084.8\t36.5537\t9957.3 \t10114.7\n",
      "100\t131   \t10089.2\t35.7013\t9944.26\t10114.7\n"
     ]
    }
   ],
   "source": [
    "if __name__ == \"__main__\":\n",
    "    pop, stats, hof = main()"
   ]
  },
  {
   "cell_type": "code",
   "execution_count": 23,
   "id": "23227b1c-9c20-44e4-9a80-35c2e732c309",
   "metadata": {},
   "outputs": [
    {
     "data": {
      "text/plain": [
       "'buy_sell(add(add(protectedDiv(accumulatedOtherComprehensiveIncome, nonCurrrentAssetsOther), mul(sub(operatingIncome, totalCurrentAssets), costOfRevenue)), totalOtherIncomeExpenseNet), protectedDiv(totalCurrentAssets, nonCurrrentAssetsOther))'"
      ]
     },
     "execution_count": 23,
     "metadata": {},
     "output_type": "execute_result"
    }
   ],
   "source": [
    "#show the executable code for the best performing Individual (Hall of Fame)\n",
    "tree = gp.PrimitiveTree(hof[0])\n",
    "str(tree)"
   ]
  },
  {
   "cell_type": "code",
   "execution_count": 215,
   "id": "0db49de1-8fa3-4bc4-a7c3-eb6a241efa86",
   "metadata": {},
   "outputs": [],
   "source": [
    "#create tree diagram\n",
    "nodes, edges, labels = gp.graph(hof[0])\n",
    "\n",
    "g = pgv.AGraph()\n",
    "g.add_nodes_from(nodes)\n",
    "g.add_edges_from(edges)\n",
    "g.layout(prog=\"dot\")\n",
    "\n",
    "for i in nodes:\n",
    "    n = g.get_node(i)\n",
    "    n.attr[\"label\"] = labels[i]\n",
    "\n",
    "g.draw(\"tree.pdf\")"
   ]
  },
  {
   "cell_type": "code",
   "execution_count": null,
   "id": "ae7200a3-1b22-48d6-ae99-f050b70fa10f",
   "metadata": {},
   "outputs": [],
   "source": []
  },
  {
   "cell_type": "code",
   "execution_count": null,
   "id": "0c60be65-86a0-4098-8fbb-25a22b8eff2e",
   "metadata": {},
   "outputs": [],
   "source": []
  }
 ],
 "metadata": {
  "colab": {
   "name": "",
   "version": ""
  },
  "kernelspec": {
   "display_name": "Python 3 (ipykernel)",
   "language": "python",
   "name": "python3"
  },
  "language_info": {
   "codemirror_mode": {
    "name": "ipython",
    "version": 3
   },
   "file_extension": ".py",
   "mimetype": "text/x-python",
   "name": "python",
   "nbconvert_exporter": "python",
   "pygments_lexer": "ipython3",
   "version": "3.11.6"
  }
 },
 "nbformat": 4,
 "nbformat_minor": 5
}
