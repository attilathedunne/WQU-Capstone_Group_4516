{
 "cells": [
  {
   "cell_type": "markdown",
   "id": "678e90c5-7a01-48ea-a521-b8346bf12cbc",
   "metadata": {},
   "source": [
    "### Genetic Programming - Revised Model (Parameter Grid)\n",
    "Revised implementation of GP using tree depth of 2 to 3 and basic operators. Strongly typed GP is used to ensure final tree node produces required signal string. Fitness function maximises risk-adjusted return and uses pandas apply to increase speed.. Uses robust scaled data compiled by industry with min. 80% complete data.\n"
   ]
  },
  {
   "cell_type": "code",
   "execution_count": null,
   "id": "a1fbdbb2",
   "metadata": {
    "executionInfo": {
     "elapsed": 7,
     "status": "ok",
     "timestamp": 1699647395284,
     "user": {
      "displayName": "Kevin Dunne",
      "userId": "15084136702634259106"
     },
     "user_tz": -780
    },
    "id": "d19ccf9e-7469-4aa0-b8dc-aeeab1d894b7"
   },
   "outputs": [],
   "source": [
    "import operator\n",
    "import math\n",
    "import random\n",
    "import pandas as pd\n",
    "import datetime as dt\n",
    "import numpy as np\n",
    "import pygraphviz as pgv\n",
    "import os\n",
    "import urllib\n",
    "import json\n",
    "import requests\n",
    "from io import StringIO\n",
    "import sys\n",
    "from pathlib import Path\n",
    "from eod import EodHistoricalData\n",
    "from wand.image import Image as WImage\n",
    "\n",
    "from functools import partial\n",
    "\n",
    "from deap import algorithms\n",
    "from deap import base\n",
    "from deap import creator\n",
    "from deap import tools\n",
    "from deap import gp\n",
    "\n",
    "from sklearn.model_selection import ParameterGrid\n",
    "from sklearn.metrics import f1_score\n",
    "from sklearn.metrics import confusion_matrix, accuracy_score\n",
    "from sklearn.metrics import plot_precision_recall_curve\n",
    "\n",
    "\n",
    "pd.set_option('display.max_rows', None)\n",
    "sys.set_int_max_str_digits(30000) "
   ]
  },
  {
   "cell_type": "code",
   "execution_count": 5,
   "id": "d0ceae30-e122-4704-aa1f-15c34b9d3d62",
   "metadata": {},
   "outputs": [],
   "source": [
    "#paths for data - set prefix to location of Data folder\n",
    "path_prefix = r'D:'\n",
    "path_att = r'\\Data\\fundamentals_by_attribute'\n",
    "path_fun = r'\\Data\\fundamentals_by_ticker'\n",
    "path_std = r'\\Data\\standardised_fundamentals'\n",
    "path_eda = r'\\Data\\exploratory_data_analysis'\n",
    "path_rob = r'\\Data\\robust_scaling'\n",
    "path_ind = r'\\Data\\indicator_prices'\n",
    "path_sec = r'\\Data\\rob_scaled_data_by_sector'\n",
    "path_cor = r'\\Data\\correlation_matrices'\n",
    "path_img = r'D:\\GP_Images'"
   ]
  },
  {
   "cell_type": "code",
   "execution_count": 10,
   "id": "9ff8fe4c-cf06-43c7-91e9-2bdd25026279",
   "metadata": {},
   "outputs": [],
   "source": [
    "#read csv of % NaN values for each attribute and create list of those with more than given % for removal\n",
    "mean_pct_nans = pd.read_csv(path_prefix + path_eda + \"/df_agg.csv\", index_col=0).loc['pct_nan']\n",
    "mean_pct_nans.sort_values(inplace=True)\n",
    "to_drop = mean_pct_nans[mean_pct_nans > 15].index.to_list()"
   ]
  },
  {
   "cell_type": "code",
   "execution_count": 11,
   "id": "759367c5-7fdc-4c6f-9078-bba7b886f38e",
   "metadata": {},
   "outputs": [],
   "source": [
    "#read example fundamental dataset for extracting column names\n",
    "filepath = Path(path_prefix + path_fun + '\\df_fun_TECK.csv')\n",
    "df = pd.read_csv(filepath, index_col=0, parse_dates=True)\n",
    "df.drop(['date', 'filing_date', 'currency_symbol'], inplace=True)\n",
    "df.drop(to_drop, inplace=True)"
   ]
  },
  {
   "cell_type": "code",
   "execution_count": 12,
   "id": "d0967f6a-2a5f-4e92-a8f7-f7c964ce1296",
   "metadata": {},
   "outputs": [],
   "source": [
    "#create list of types for when iniitialising Pset (float x num attributes)\n",
    "num_atts = len(df)\n",
    "types_list = []\n",
    "for i in range(num_atts):\n",
    "    types_list.append(float)"
   ]
  },
  {
   "cell_type": "code",
   "execution_count": 13,
   "id": "483bda4d-ec1a-4c58-a9bb-a784decd9198",
   "metadata": {},
   "outputs": [],
   "source": [
    "#initialise Pset to receive floats and output string (buy/sell/hold)\n",
    "pset = gp.PrimitiveSetTyped(\"main\", types_list, str)"
   ]
  },
  {
   "cell_type": "code",
   "execution_count": 14,
   "id": "280daeaa-a384-4aeb-83cf-f7035c51a2bd",
   "metadata": {},
   "outputs": [],
   "source": [
    "#rename input arguments (Terminals) with fundamental attribute names\n",
    "for i in range(num_atts): \n",
    "    ind_name =  df.index[i]\n",
    "    if ind_name != 'date' and ind_name != 'currency_symbol' and ind_name != 'filing_date' :\n",
    "        argstring = \"ARG{}\".format(str(i))\n",
    "        pset.renameArguments(**{argstring:ind_name})"
   ]
  },
  {
   "cell_type": "code",
   "execution_count": 15,
   "id": "0604423c",
   "metadata": {
    "id": "85a3a0e8-978d-4128-a989-758fae1d6704"
   },
   "outputs": [],
   "source": [
    "# Define new functions\n",
    "def protectedDiv(left, right):\n",
    "    try:\n",
    "        return left / right\n",
    "    except ZeroDivisionError:\n",
    "        return left\n",
    "\n",
    "def negate(left, right):\n",
    "    try:\n",
    "        return np.negative(left) * right\n",
    "    except ZeroDivisionError:\n",
    "        return left\n",
    "\n",
    "def mult2(left, right):\n",
    "    return left * 2 * right\n",
    "\n",
    "def mult3(left, right):\n",
    "    return left * 3 * right\n",
    "\n",
    "def mult5(left, right):\n",
    "    return left * 5 * right\n",
    "\n",
    "def mult10(left, right):\n",
    "    return left * 10 * right\n",
    "\n",
    "def mult50(left, right):\n",
    "    return left * 50 * right\n",
    "\n",
    "def div2(left, right):\n",
    "    return protectedDiv(left, 2) * right\n",
    "\n",
    "def div3(left, right):\n",
    "    return protectedDiv(left, 3) * right\n",
    "\n",
    "def div5(left, right):\n",
    "    return protectedDiv(left, 5) * right\n",
    "\n",
    "def div10(left, right):\n",
    "    return protectedDiv(left, 10) * right\n",
    "\n",
    "def div50(left, right):\n",
    "    return protectedDiv(left, 50) * right\n"
   ]
  },
  {
   "cell_type": "code",
   "execution_count": 16,
   "id": "e3bffe97-cc02-4cc7-93ce-da6c03353108",
   "metadata": {
    "tags": []
   },
   "outputs": [],
   "source": [
    "#define function to provide signal\n",
    "def buy_sell (A, B):\n",
    "    if A > B:\n",
    "        return True\n",
    "    elif A < B:\n",
    "        return False"
   ]
  },
  {
   "cell_type": "code",
   "execution_count": 17,
   "id": "541ea681-3891-48f5-9046-95d377ad4dd1",
   "metadata": {
    "tags": []
   },
   "outputs": [],
   "source": [
    "#add functions to Primitive set\n",
    "pset.addPrimitive(buy_sell, [float, float], str)\n",
    "pset.addPrimitive(operator.add, [float, float], float)\n",
    "pset.addPrimitive(operator.sub, [float, float], float)\n",
    "pset.addPrimitive(operator.mul, [float, float], float)\n",
    "pset.addPrimitive(protectedDiv, [float, float], float)\n",
    "\n",
    "pset.addPrimitive(mult2, [float, float], float)\n",
    "pset.addPrimitive(mult3, [float, float], float)\n",
    "pset.addPrimitive(mult5, [float, float], float)\n",
    "pset.addPrimitive(mult10, [float, float], float)\n",
    "pset.addPrimitive(div2, [float, float], float)\n",
    "pset.addPrimitive(div3, [float, float], float)\n",
    "pset.addPrimitive(div5, [float, float], float)\n",
    "pset.addPrimitive(div10, [float, float], float)\n",
    "pset.addPrimitive(negate, [float, float], float)"
   ]
  },
  {
   "cell_type": "code",
   "execution_count": 18,
   "id": "ae41e416-8061-4fe4-9f65-e699b401d787",
   "metadata": {},
   "outputs": [],
   "source": [
    "#create invididual class to maximise fitness\n",
    "creator.create(\"FitnessMax\", base.Fitness, weights=(1.0,))\n",
    "creator.create(\"Individual\", gp.PrimitiveTree, fitness=creator.FitnessMax, pset=pset)"
   ]
  },
  {
   "cell_type": "code",
   "execution_count": 19,
   "id": "2d5b5001",
   "metadata": {
    "id": "46d868c0-c456-4bf8-9668-fe0389956e70"
   },
   "outputs": [],
   "source": [
    "#instantiate toolbox and register components for evolving trees\n",
    "toolbox = base.Toolbox()\n",
    "toolbox.register(\"expr\", gp.genHalfAndHalf, pset=pset, min_=2, max_=4)\n",
    "toolbox.register(\"individual\", tools.initIterate, creator.Individual, toolbox.expr)\n",
    "toolbox.register(\"population\", tools.initRepeat, list, toolbox.individual)\n",
    "toolbox.register(\"compile\", gp.compile, pset=pset)"
   ]
  },
  {
   "cell_type": "code",
   "execution_count": 20,
   "id": "0e4477f2-1537-48a1-a2e0-d69a648f2c0c",
   "metadata": {
    "tags": []
   },
   "outputs": [],
   "source": [
    "#define functions for performance \n",
    "def find_TP(actuals, signals):\n",
    "   # counts the number of true positives (y = 1, y_hat = 1)\n",
    "   return sum((actuals == True) & (signals == True))\n",
    "def find_FN(actuals, signals):\n",
    "   # counts the number of false negatives (y = 1, y_hat = 0) Type-II error\n",
    "   return sum((actuals == True) & (signals == False))\n",
    "def find_FP(actuals, signals):\n",
    "   # counts the number of false positives (y = 0, y_hat = 1) Type-I error\n",
    "   return sum((actuals == False) & (signals == True))\n",
    "def find_TN(actuals, signals):\n",
    "   # counts the number of true negatives (y = 0, y_hat = 0)\n",
    "   return sum((actuals == False) & (signals == False))"
   ]
  },
  {
   "cell_type": "code",
   "execution_count": 21,
   "id": "b05717a9-c78e-4ea8-ad28-28e0042da9b3",
   "metadata": {
    "tags": []
   },
   "outputs": [],
   "source": [
    "def eval_trading_rule(individual):\n",
    "    #transform the tree in to a callable function\n",
    "    function = toolbox.compile(expr=individual)\n",
    "    \n",
    "    def gen_signal(row):\n",
    "        vals = row.values.flatten().tolist()\n",
    "        signal = function(*vals)\n",
    "        return signal\n",
    "\n",
    "    signals = X_train.apply(gen_signal, axis=1)\n",
    "    actuals = y_train > 0.2\n",
    "    \n",
    "    accuracy = (actuals == signals).sum() / signals.shape[0]\n",
    "    \n",
    "    tree = gp.PrimitiveTree(individual)\n",
    "\n",
    "    TP = find_TP(actuals, signals)\n",
    "    FN = find_FN(actuals, signals)\n",
    "    FP = find_FP(actuals, signals)\n",
    "    TN = find_TN(actuals, signals)\n",
    "    \n",
    "    if TP > 0:\n",
    "        precision = TP/(TP+FP)\n",
    "        recall = TP/(TP+FN)\n",
    "        f1_score = 2*((precision*recall)/(precision+recall))\n",
    "        f0_5_score = ((1 + 0.5**2) * precision * recall) / (0.5**2 * precision + recall)\n",
    "        \n",
    "    else:\n",
    "        precision = recall = f1_score = f0_5_score = 0\n",
    "    \n",
    "    return (f0_5_score, )"
   ]
  },
  {
   "cell_type": "code",
   "execution_count": 22,
   "id": "36fc2633-487b-4466-8ce8-3dbe6328ec73",
   "metadata": {},
   "outputs": [],
   "source": [
    "toolbox.register(\"evaluate\", eval_trading_rule)\n",
    "toolbox.register(\"select\", tools.selDoubleTournament,  fitness_size=10, parsimony_size=1.6, fitness_first=True)\n",
    "toolbox.register(\"mate\", gp.cxOnePoint)\n",
    "toolbox.register(\"expr_mut\", gp.genHalfAndHalf, min_=2, max_=4)\n",
    "toolbox.register(\"mutate\", gp.mutUniform, expr=toolbox.expr_mut, pset=pset)"
   ]
  },
  {
   "cell_type": "code",
   "execution_count": 6,
   "id": "c01da0ca-826c-4adc-8d7b-d3ea3297dc9a",
   "metadata": {},
   "outputs": [],
   "source": [
    "sectors = pd.read_csv(path_prefix + \"/industries_by_ticker.csv\", names=[\"Industry\"])\n",
    "sectors = sectors['Industry'].values\n",
    "sectors = set(sectors[1:])"
   ]
  },
  {
   "cell_type": "code",
   "execution_count": 9,
   "id": "857b8edb-06d3-4ff3-859f-066101fd62e4",
   "metadata": {},
   "outputs": [
    {
     "data": {
      "text/plain": [
       "162"
      ]
     },
     "execution_count": 9,
     "metadata": {},
     "output_type": "execute_result"
    }
   ],
   "source": [
    "len(sectors)"
   ]
  },
  {
   "cell_type": "code",
   "execution_count": 24,
   "id": "25dd78da-6a60-44f5-bf94-8487f9e12c91",
   "metadata": {},
   "outputs": [
    {
     "data": {
      "text/plain": [
       "[{'Crossover': 0.5, 'Generations': 20, 'Mutation': 0.1, 'Population': 100},\n",
       " {'Crossover': 0.5, 'Generations': 20, 'Mutation': 0.1, 'Population': 500},\n",
       " {'Crossover': 0.5, 'Generations': 20, 'Mutation': 0.5, 'Population': 100},\n",
       " {'Crossover': 0.5, 'Generations': 20, 'Mutation': 0.5, 'Population': 500},\n",
       " {'Crossover': 0.5, 'Generations': 50, 'Mutation': 0.1, 'Population': 100},\n",
       " {'Crossover': 0.5, 'Generations': 50, 'Mutation': 0.1, 'Population': 500},\n",
       " {'Crossover': 0.5, 'Generations': 50, 'Mutation': 0.5, 'Population': 100},\n",
       " {'Crossover': 0.5, 'Generations': 50, 'Mutation': 0.5, 'Population': 500},\n",
       " {'Crossover': 0.9, 'Generations': 20, 'Mutation': 0.1, 'Population': 100},\n",
       " {'Crossover': 0.9, 'Generations': 20, 'Mutation': 0.1, 'Population': 500},\n",
       " {'Crossover': 0.9, 'Generations': 20, 'Mutation': 0.5, 'Population': 100},\n",
       " {'Crossover': 0.9, 'Generations': 20, 'Mutation': 0.5, 'Population': 500},\n",
       " {'Crossover': 0.9, 'Generations': 50, 'Mutation': 0.1, 'Population': 100},\n",
       " {'Crossover': 0.9, 'Generations': 50, 'Mutation': 0.1, 'Population': 500},\n",
       " {'Crossover': 0.9, 'Generations': 50, 'Mutation': 0.5, 'Population': 100},\n",
       " {'Crossover': 0.9, 'Generations': 50, 'Mutation': 0.5, 'Population': 500}]"
      ]
     },
     "execution_count": 24,
     "metadata": {},
     "output_type": "execute_result"
    }
   ],
   "source": [
    "param_grid = {'Crossover': [0.5, 0.9], 'Population': [100, 500], 'Mutation': [0.1, 0.5], 'Generations': [20, 50]}\n",
    "list(ParameterGrid(param_grid))"
   ]
  },
  {
   "cell_type": "code",
   "execution_count": null,
   "id": "55fa41e9-d796-422b-866a-2e93b9c51445",
   "metadata": {},
   "outputs": [],
   "source": [
    "hof_of_hof = []\n",
    "\n",
    "for params in ParameterGrid(param_grid):\n",
    "\n",
    "    #intialise GP function with parameter values from parameter grid\n",
    "    def main():\n",
    "        random.seed(41)\n",
    "        pop = toolbox.population(n=params['Population'])\n",
    "        hof = tools.HallOfFame(10)\n",
    "        stats = tools.Statistics(lambda ind: ind.fitness.values)\n",
    "        stats.register(\"avg\", np.mean)\n",
    "        stats.register(\"std\", np.std)\n",
    "        stats.register(\"min\", np.min)\n",
    "        stats.register(\"max\", np.max)\n",
    "        #stats.register(\"values\", np.array)\n",
    "    \n",
    "        #algorithms.eaSimple(pop, toolbox, 0.5, 0.2, 40, stats, halloffame=None)\n",
    "        algorithms.eaSimple(pop, toolbox, params['Crossover'], params['Mutation'], params['Generations'], stats=stats, halloffame=hof)\n",
    "        return pop, stats, hof\n",
    "\n",
    "\n",
    "    for sector in sectors:\n",
    "        if completed.count(sector) == 0:\n",
    "            filepath = Path(path_prefix + path_sec + '\\df_{}.csv'.format(sector))\n",
    "    \n",
    "            #load in fundamental sector data\n",
    "            df_sec = pd.read_csv(filepath, index_col=0)\n",
    "            df_sec.drop(to_drop, axis=1, inplace=True)\n",
    "            df_sec.sort_index(inplace=True)\n",
    "            \n",
    "            \n",
    "            #drop unecessary columns\n",
    "            if 'adjusted_close' in df_sec.columns:\n",
    "                df_sec.drop('adjusted_close', axis=1, inplace=True)\n",
    "            \n",
    "            if 'prev_close' in df_sec.columns:\n",
    "                df_rob.drop('prev_close', axis=1, inplace=True)\n",
    "            \n",
    "            if 'signal' in df_sec.columns:\n",
    "                df_sec.drop('signal', axis=1, inplace=True)\n",
    "            \n",
    "            #only apply to datasets > 10\n",
    "            df_len = df_sec.shape[0]\n",
    "            if df_len > 10:\n",
    "                \n",
    "                #create binary mask to split train and test sets \n",
    "                mask_train = 8\n",
    "                mask_test = 2\n",
    "                mask = mask_train * '1' + mask_test * '0'\n",
    "                mask = mask * int((df_len - df_len % 10) / 10) + (df_len % 10) * '0'\n",
    "                bin_mask = [int(d) for d in str(int(mask))]\n",
    "                \n",
    "                for i in range(len(bin_mask)):\n",
    "                    if bin_mask[i] == 0:\n",
    "                        bin_mask[i] = False\n",
    "                 \n",
    "                    if bin_mask[i] == 1:\n",
    "                        bin_mask[i] = True\n",
    "            \n",
    "                X_train = df_sec.drop('10%DDret', axis=1)[bin_mask]\n",
    "                X_test = df_sec.drop('10%DDret', axis=1)[np.invert(bin_mask)]\n",
    "                y_train = df_sec['10%DDret'][bin_mask]\n",
    "                y_test = df_sec['10%DDret'][np.invert(bin_mask)]\n",
    "    \n",
    "                #execute GP function\n",
    "                print(\"*****EVOLUTION*****\")\n",
    "                if __name__ == \"__main__\":\n",
    "                    pop, stats, hof = main()\n",
    "    \n",
    "                #apply best-performing function (hall-of-fame) to test set\n",
    "                hof_func = gp.compile(hof[0], pset=pset)\n",
    "            \n",
    "                def gen_signal(row):\n",
    "                    vals = row.values.flatten().tolist()\n",
    "    \n",
    "                    '''\n",
    "                    for i in range(len(vals)):\n",
    "                        if math.isnan(vals[i]) == True:\n",
    "                            vals[i] = 0\n",
    "                    '''\n",
    "                    signal = hof_func(*vals)\n",
    "                    return signal\n",
    "            \n",
    "                signals = X_test.apply(gen_signal, axis=1)\n",
    "                actuals = y_test > 0.2\n",
    "                tree = gp.PrimitiveTree(hof[0])\n",
    "    \n",
    "                #calculate performance metrics for test set\n",
    "                TP = find_TP(actuals, signals)\n",
    "                FN = find_FN(actuals, signals)\n",
    "                FP = find_FP(actuals, signals)\n",
    "                TN = find_TN(actuals, signals)\n",
    "    \n",
    "                #avoid div by 0 error \n",
    "                if TP > 0:\n",
    "                    precision = TP/(TP+FP)\n",
    "                    recall = TP/(TP+FN)\n",
    "                    f1_score = 2*((precision*recall)/(precision+recall))\n",
    "                    f0_5_score = ((1 + 0.5**2.0) * precision * recall) / (0.5**2.0 * precision + recall)\n",
    "                    accuracy = (TP + TN) / (TP + FP + FN + TN)\n",
    "                    \n",
    "                else:\n",
    "                    accuracy = precision = recall = f1_score = f0_5_score = 0\n",
    "    \n",
    "                if f0_5_score > 0.5:\n",
    "                    hof_of_hof.append(hof)\n",
    "                \n",
    "                print(\"*****TEST_SET*****\")\n",
    "                print(\"Sector: = \" + str(sector))\n",
    "                print(\"accuracy = \" + str(accuracy))\n",
    "                print(\"precision = \" + str(precision))\n",
    "                print(\"recall = \" + str(recall))\n",
    "                print(\"f1_score = \" + str(f1_score))\n",
    "                print(\"f0.5_score = \" + str(f0_5_score))\n",
    "                print(\"Best performing rule = \" + str(tree))\n",
    "                print(\"Size training data: \" + str(X_train.shape))\n",
    "                print(\"Size test data: \" + str(X_test.shape))\n",
    "                \n",
    "                record = stats.compile(pop)   \n",
    "                \n",
    "                with open(path_prefix + 'CV_Grid_Results_IV.txt', 'a') as f:\n",
    "                    f.write('\\n') \n",
    "                    f.write('\\n')\n",
    "                    f.write('\\n')\n",
    "                    f.write(\"**********\")\n",
    "                    f.write('\\n')\n",
    "                    f.write(\"Sector: = \" + str(sector))\n",
    "                    f.write('\\n')\n",
    "                    f.write(\"Parameters: \" + str(param_grid))\n",
    "                    f.write('\\n')\n",
    "                    f.write(\"accuracy = \" + str(accuracy))\n",
    "                    f.write('\\n')\n",
    "                    f.write(\"precision = \" + str(precision))\n",
    "                    f.write('\\n')\n",
    "                    f.write(\"recall = \" + str(recall))\n",
    "                    f.write('\\n')\n",
    "                    f.write(\"f1_score = \" + str(f1_score))\n",
    "                    f.write('\\n')\n",
    "                    f.write(\"f0.5_score = \" + str(f0_5_score))\n",
    "                    f.write('\\n')\n",
    "                    f.write(\"Best performing rule = \" + str(tree))\n",
    "                    f.write('\\n')\n",
    "                    f.write(\"Size training data: \" + str(X_train.shape))\n",
    "                    f.write('\\n')\n",
    "                    f.write(\"Size test data: \" + str(X_test.shape))\n",
    "                    f.write('\\n')\n",
    "                    f.write(\"Final training population stats: \" + str(record))\n",
    "    \n",
    "                '''\n",
    "                create tree diagram\n",
    "                nodes, edges, labels = gp.graph(hof[0])\n",
    "                \n",
    "                g = pgv.Graph(format='png')\n",
    "                g.add_nodes_from(nodes)\n",
    "                g.add_edges_from(edges)\n",
    "                g.layout(prog=\"dot\")\n",
    "                \n",
    "                for i in nodes:\n",
    "                    n = g.get_node(i)\n",
    "                    n.attr[\"label\"] = labels[i]\n",
    "                \n",
    "                g.write(path_img + \"\\{}_().pdf\".format(sector, str(params)))\n",
    "                '''"
   ]
  },
  {
   "cell_type": "code",
   "execution_count": null,
   "id": "8c36d4f7-def5-400e-a058-966c3095d724",
   "metadata": {},
   "outputs": [],
   "source": []
  },
  {
   "cell_type": "code",
   "execution_count": null,
   "id": "5a971db9-3680-443a-9eef-ad2b868f42d3",
   "metadata": {},
   "outputs": [],
   "source": []
  }
 ],
 "metadata": {
  "colab": {
   "name": "",
   "version": ""
  },
  "kernelspec": {
   "display_name": "Python 3 (ipykernel)",
   "language": "python",
   "name": "python3"
  },
  "language_info": {
   "codemirror_mode": {
    "name": "ipython",
    "version": 3
   },
   "file_extension": ".py",
   "mimetype": "text/x-python",
   "name": "python",
   "nbconvert_exporter": "python",
   "pygments_lexer": "ipython3",
   "version": "3.11.6"
  }
 },
 "nbformat": 4,
 "nbformat_minor": 5
}
