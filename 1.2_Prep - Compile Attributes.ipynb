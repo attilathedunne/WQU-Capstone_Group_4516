{
 "cells": [
  {
   "cell_type": "markdown",
   "id": "1605afbb-0505-46f7-b4f6-c2bfad93e1af",
   "metadata": {},
   "source": [
    "### Compile Attributes\n",
    "Iterates through the downloaded fundamental csv files and compiles the data for each fundamental attribute (119). CSV fiules are then stored to 'fundamentals_by_attribute' folder."
   ]
  },
  {
   "cell_type": "code",
   "execution_count": 5,
   "id": "135d6d3f-7445-48ae-a8ec-5661d7ec1301",
   "metadata": {},
   "outputs": [],
   "source": [
    "import operator\n",
    "import math\n",
    "import random\n",
    "import pandas as pd\n",
    "import datetime as dt\n",
    "import numpy as np\n",
    "import os\n",
    "import urllib\n",
    "import json\n",
    "import requests\n",
    "\n",
    "from io import StringIO\n",
    "from pathlib import Path\n",
    "\n",
    "from functools import partial\n",
    "\n",
    "from deap import algorithms\n",
    "from deap import base\n",
    "from deap import creator\n",
    "from deap import tools\n",
    "from deap import gp\n",
    "\n",
    "from eod import EodHistoricalData\n",
    "\n",
    "pd.set_option('display.max_rows', None)"
   ]
  },
  {
   "cell_type": "code",
   "execution_count": 6,
   "id": "b27b33c2-f274-4c87-bc4d-474a2913083d",
   "metadata": {},
   "outputs": [],
   "source": [
    "#paths for data - set prefix to location of Data folder\n",
    "path_prefix = r'C:\\Users\\OEM\\GDrive\\WQU'\n",
    "path_att = r'\\Data\\fundamentals_by_attribute'\n",
    "path_fun = r'\\Data\\fundamentals_by_ticker'\n",
    "path_std = r'\\Data\\standardised_fundamentals'\n",
    "path_eda = r'\\Data\\exploratory_data_analysis'"
   ]
  },
  {
   "cell_type": "code",
   "execution_count": 7,
   "id": "98075fdb-94bc-44a5-bf79-904a6a7ce60b",
   "metadata": {},
   "outputs": [],
   "source": [
    "os.chdir(path_prefix)"
   ]
  },
  {
   "cell_type": "code",
   "execution_count": 8,
   "id": "c0a05201-325d-4363-8fef-f400efaf8b0f",
   "metadata": {},
   "outputs": [],
   "source": [
    "api_key = \"618f834b7bfe27.18132752\"\n",
    "client = EodHistoricalData(api_key)"
   ]
  },
  {
   "cell_type": "code",
   "execution_count": 9,
   "id": "05d838ae-d621-4fc1-879f-2e6d94b15bba",
   "metadata": {},
   "outputs": [],
   "source": [
    "resp = client.get_exchange_symbols(exchange='NYSE')"
   ]
  },
  {
   "cell_type": "code",
   "execution_count": 10,
   "id": "2dd37fd9-c7a8-45d7-b49e-80f7b4f2cb05",
   "metadata": {},
   "outputs": [],
   "source": [
    "tickers = []\n",
    "for i in range(len(resp)):\n",
    "    if resp[i]['Type'] == 'Common Stock' or resp[i]['Type'] == 'Preferred Stock' :\n",
    "        ticker = resp[i]['Code']\n",
    "        tickers.append(ticker)"
   ]
  },
  {
   "cell_type": "code",
   "execution_count": null,
   "id": "c5ce886b-a8d4-437f-8f03-eb3f99743162",
   "metadata": {},
   "outputs": [],
   "source": [
    "for ticker in tickers:\n",
    "    filepath = Path(path_prefix + path_fun + '\\df_fun_{}.csv'.format(ticker))\n",
    "    print(ticker)\n",
    "    if os.path.isfile(filepath) == True:\n",
    "        df_fun = pd.read_csv(filepath, index_col=0).transpose()\n",
    "        for i in range(len(df_fun.columns)):\n",
    "            col = df_fun.columns[i]\n",
    "            print(col)\n",
    "            filepath = Path(path_prefix + path_att + 'df_{}.csv'.format(col))\n",
    "            if os.path.isfile(filepath) == False:\n",
    "                filepath.parent.mkdir(parents=True, exist_ok=True)  \n",
    "                df_fun[col].to_csv(filepath)\n",
    "            else:  \n",
    "                df_att = pd.read_csv(filepath, index_col=0)\n",
    "                att = df_fun[col].to_frame()\n",
    "                suffix = '_{}'.format(ticker)\n",
    "                df_att = df_att.join(att, how='outer', rsuffix=suffix)\n",
    "                df_att.to_csv(filepath)"
   ]
  },
  {
   "cell_type": "code",
   "execution_count": null,
   "id": "d9cf3dce-a4ff-419c-85ad-abf6ed3ee832",
   "metadata": {},
   "outputs": [],
   "source": []
  }
 ],
 "metadata": {
  "kernelspec": {
   "display_name": "Python 3 (ipykernel)",
   "language": "python",
   "name": "python3"
  },
  "language_info": {
   "codemirror_mode": {
    "name": "ipython",
    "version": 3
   },
   "file_extension": ".py",
   "mimetype": "text/x-python",
   "name": "python",
   "nbconvert_exporter": "python",
   "pygments_lexer": "ipython3",
   "version": "3.11.6"
  }
 },
 "nbformat": 4,
 "nbformat_minor": 5
}
