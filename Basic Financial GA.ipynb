{
 "cells": [
  {
   "cell_type": "markdown",
   "id": "4085c3fe-0c03-41c0-a469-a80dc98e913e",
   "metadata": {
    "tags": []
   },
   "source": [
    "### WQU Capstone Group 4156"
   ]
  },
  {
   "cell_type": "markdown",
   "id": "b229f2bb-f5b9-4f4a-bbe7-4a7c03f6a786",
   "metadata": {},
   "source": [
    "The following code demonstrates the usability of the DEAP python framework for Evolutionary Algorithms for financial problems by replicating the genetic algorithm described on p.69 of Brabazon and O'Neill's Biologically Inspired Algorithms for Financial Modelling. The code borrows for the DEAP documentation with a custom fitness function for the problem."
   ]
  },
  {
   "cell_type": "code",
   "execution_count": null,
   "id": "12343ae1-232a-4d80-bec2-6202f4eb69fa",
   "metadata": {},
   "outputs": [],
   "source": [
    "import random\n",
    "\n",
    "from deap import base\n",
    "from deap import creator\n",
    "from deap import tools\n",
    "\n",
    "import pandas_datareader as pdr\n",
    "import yfinance as yf\n",
    "import pandas as pd\n",
    "import numpy as np\n",
    "import datetime as dt\n",
    "import matplotlib.pyplot as plt\n",
    "yf.pdr_override()"
   ]
  },
  {
   "cell_type": "code",
   "execution_count": null,
   "id": "0904e954-9e9d-4324-a36d-a23e7a49040f",
   "metadata": {},
   "outputs": [],
   "source": [
    "days = 504\n",
    "end = dt.datetime.today()\n",
    "start = end - dt.timedelta(days=days)\n",
    "\n",
    "df_sp500 = yf.download(\"^GSPC\", start=start, end=end)#['Adj Close']\n",
    "\n",
    "df_sp500.drop(['Open', 'Close', 'High', 'Low'], axis=1, inplace=True)"
   ]
  },
  {
   "cell_type": "code",
   "execution_count": null,
   "id": "24e3273c-6807-4669-babc-7926cdc1c850",
   "metadata": {},
   "outputs": [],
   "source": [
    "creator.create(\"FitnessMax\", base.Fitness, weights=(1.0,))\n",
    "creator.create(\"Individual\", list, fitness=creator.FitnessMax)"
   ]
  },
  {
   "cell_type": "code",
   "execution_count": null,
   "id": "73e90b58-e5ed-4141-a88b-6bc2fdfc6924",
   "metadata": {},
   "outputs": [],
   "source": [
    "toolbox = base.Toolbox()\n",
    "# Attribute generator \n",
    "toolbox.register(\"attr_int\", random.randint, 0, 100)\n",
    "# Structure initializers\n",
    "toolbox.register(\"individual\", tools.initRepeat, creator.Individual, \n",
    "    toolbox.attr_int, 3)\n",
    "toolbox.register(\"population\", tools.initRepeat, list, toolbox.individual)"
   ]
  },
  {
   "cell_type": "code",
   "execution_count": null,
   "id": "2dcd9840-1cf2-4e55-834c-120522078bfb",
   "metadata": {},
   "outputs": [],
   "source": [
    "def eval_fitness(list_xyz):\n",
    "    #extract x y z from list\n",
    "    x = list_xyz[0]\n",
    "    y = list_xyz[1]\n",
    "    z = list_xyz[2]\n",
    "    \n",
    "    #calculate rolling means and add to df\n",
    "    df_sp500['x_sma'] = df_sp500['Adj Close'].rolling(x).mean()\n",
    "    df_sp500['y_sma'] = df_sp500['Adj Close'].rolling(y).mean()\n",
    "    \n",
    "    #generate BUY/SELL signals and add to df\n",
    "    for ind in df_sp500.index:\n",
    "        if df_sp500.loc[ind, 'x_sma'] /  df_sp500.loc[ind, 'y_sma'] > (z/100) :    \n",
    "            df_sp500.loc[ind, 'Signal'] = 'BUY'\n",
    "\n",
    "        else:\n",
    "            df_sp500.loc[ind, 'Signal'] = 'SELL' \n",
    "\n",
    "    #Initialise variables\n",
    "    buy_price = 0 \n",
    "    sell_price = 0\n",
    "    bank = 10000\n",
    "    \n",
    "    #Loop through df and check entry signal (SELL to BUY) or exit signal (BUY to SELL) generated\n",
    "    for i in range(len(df_sp500)): \n",
    "            \n",
    "        if df_sp500.iloc[i, 4] == 'BUY' and df_sp500.iloc[i-1, 4] == 'SELL':\n",
    "            buy_price = df_sp500.iloc[i, 0]\n",
    "            buy_date = df_sp500.index[i]\n",
    "            #print('Bought at ${} on {}'.format(buy_price, buy_date))\n",
    "                  \n",
    "        elif df_sp500.iloc[i, 4] == 'SELL' and df_sp500.iloc[i-1, 4] == 'BUY' and i > 0:\n",
    "                sell_price = df_sp500.iloc[i, 0]\n",
    "                sell_date = df_sp500.index[i]\n",
    "                #print('Sold at ${} on {}'.format(sell_price, sell_date))\n",
    "                \n",
    "        #Check if buy and sell complete and update bank if so        \n",
    "        if buy_price > 0 and sell_price > 0:\n",
    "            bank = bank + (sell_price - buy_price)\n",
    "            buy_price = 0\n",
    "            sell_price = 0\n",
    "            #print(\"New bank = {}\".format(bank))\n",
    "            \n",
    "    #print(\"Final bank = {}\".format(bank))\n",
    "    return bank,      "
   ]
  },
  {
   "cell_type": "code",
   "execution_count": null,
   "id": "79cc1116-89fc-4d85-8a64-a19fc131ce9d",
   "metadata": {},
   "outputs": [],
   "source": [
    "toolbox.register(\"evaluate\", eval_fitness)\n",
    "toolbox.register(\"mate\", tools.cxTwoPoint)\n",
    "toolbox.register(\"mutate\", tools.mutUniformInt, up=5, low=5, indpb=0.2)\n",
    "toolbox.register(\"select\", tools.selTournament, tournsize=3)"
   ]
  },
  {
   "cell_type": "code",
   "execution_count": null,
   "id": "7a4ee643-885c-4944-8450-c5cf5b8ee539",
   "metadata": {},
   "outputs": [],
   "source": [
    "def main():\n",
    "    pop = toolbox.population(n=25)\n",
    "    # Evaluate the entire population\n",
    "    fitnesses = list(map(toolbox.evaluate, pop))\n",
    "    for ind, fit in zip(pop, fitnesses):\n",
    "        ind.fitness.values = fit\n",
    "    # CXPB  is the probability with which two individuals\n",
    "    #       are crossed\n",
    "    #\n",
    "    # MUTPB is the probability for mutating an individual\n",
    "    CXPB, MUTPB = 0.5, 0.3\n",
    "    # Extracting all the fitnesses of \n",
    "    fits = [ind.fitness.values[0] for ind in pop]\n",
    "    # Variable keeping track of the number of generations\n",
    "    g = 0\n",
    "    print(g)\n",
    "\n",
    "    # Begin the evolution\n",
    "    while g < 100:\n",
    "        # A new generation\n",
    "        g = g + 1\n",
    "        print(\"-- Generation %i --\" % g)\n",
    "        # Select the next generation individuals\n",
    "        offspring = toolbox.select(pop, len(pop))\n",
    "        # Clone the selected individuals\n",
    "        offspring = list(map(toolbox.clone, offspring))\n",
    "        # Apply crossover and mutation on the offspring\n",
    "        for child1, child2 in zip(offspring[::2], offspring[1::2]):\n",
    "            if random.random() < CXPB:\n",
    "                toolbox.mate(child1, child2)\n",
    "                del child1.fitness.values\n",
    "                del child2.fitness.values\n",
    "\n",
    "        for mutant in offspring:\n",
    "            if random.random() < MUTPB:\n",
    "                toolbox.mutate(mutant)\n",
    "                del mutant.fitness.values\n",
    "        # Evaluate the individuals with an invalid fitness\n",
    "        invalid_ind = [ind for ind in offspring if not ind.fitness.valid]\n",
    "        fitnesses = map(toolbox.evaluate, invalid_ind)\n",
    "        for ind, fit in zip(invalid_ind, fitnesses):\n",
    "            ind.fitness.values = fit\n",
    "            \n",
    "        pop[:] = offspring\n",
    "        \n",
    "        # Gather all the fitnesses in one list and print the stats\n",
    "        fits = [ind.fitness.values[0] for ind in pop]\n",
    "\n",
    "        length = len(pop)\n",
    "        mean = sum(fits) / length\n",
    "        sum2 = sum(x*x for x in fits)\n",
    "        std = abs(sum2 / length - mean**2)**0.5\n",
    "\n",
    "        print(\"  Min %s\" % min(fits))\n",
    "        print(\"  Max %s\" % max(fits))\n",
    "        print(\"  Avg %s\" % mean)\n",
    "        print(\"  Std %s\" % std)"
   ]
  },
  {
   "cell_type": "code",
   "execution_count": null,
   "id": "c170e434-f0d3-4ba3-9cb8-77d6c658a880",
   "metadata": {},
   "outputs": [],
   "source": [
    "main()"
   ]
  },
  {
   "cell_type": "code",
   "execution_count": null,
   "id": "b6ad075a-13eb-442e-b3b5-a03f23a3de2a",
   "metadata": {},
   "outputs": [],
   "source": []
  },
  {
   "cell_type": "code",
   "execution_count": null,
   "id": "1089a767-1e8d-4925-b696-39db77612810",
   "metadata": {},
   "outputs": [],
   "source": []
  },
  {
   "cell_type": "code",
   "execution_count": null,
   "id": "d733ab5f-bfa1-47fe-a6d0-9bf0c957a19f",
   "metadata": {},
   "outputs": [],
   "source": []
  },
  {
   "cell_type": "code",
   "execution_count": null,
   "id": "54483cbe-3e92-4841-9623-d51eb77ad4d2",
   "metadata": {},
   "outputs": [],
   "source": []
  }
 ],
 "metadata": {
  "kernelspec": {
   "display_name": "Python 3 (ipykernel)",
   "language": "python",
   "name": "python3"
  },
  "language_info": {
   "codemirror_mode": {
    "name": "ipython",
    "version": 3
   },
   "file_extension": ".py",
   "mimetype": "text/x-python",
   "name": "python",
   "nbconvert_exporter": "python",
   "pygments_lexer": "ipython3",
   "version": "3.10.9"
  }
 },
 "nbformat": 4,
 "nbformat_minor": 5
}
